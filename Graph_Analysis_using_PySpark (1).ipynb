{
  "nbformat": 4,
  "nbformat_minor": 0,
  "metadata": {
    "colab": {
      "name": "Graph_Analysis_using_PySpark.ipynb",
      "provenance": [],
      "collapsed_sections": []
    },
    "kernelspec": {
      "name": "python3",
      "display_name": "Python 3"
    },
    "language_info": {
      "name": "python"
    }
  },
  "cells": [
    {
      "cell_type": "markdown",
      "source": [
        "References: \n",
        "1. https://docs.databricks.com/spark/latest/graph-analysis/graphframes/user-guide-python.html\n",
        "\n",
        "2. https://towardsdatascience.com/large-scale-graph-mining-with-spark-part-2-2c3d9ed15bb5"
      ],
      "metadata": {
        "id": "FrDJZitiYee8"
      }
    },
    {
      "cell_type": "code",
      "execution_count": 68,
      "metadata": {
        "colab": {
          "base_uri": "https://localhost:8080/"
        },
        "id": "nWV_JsSwYP4M",
        "outputId": "3a00f1a8-3627-4c1d-94fa-6ad88b8582ef"
      },
      "outputs": [
        {
          "output_type": "stream",
          "name": "stdout",
          "text": [
            "Requirement already satisfied: pyspark in /usr/local/lib/python3.7/dist-packages (3.2.1)\n",
            "Requirement already satisfied: py4j==0.10.9.3 in /usr/local/lib/python3.7/dist-packages (from pyspark) (0.10.9.3)\n"
          ]
        }
      ],
      "source": [
        "!pip install pyspark"
      ]
    },
    {
      "cell_type": "code",
      "source": [
        "from pyspark.sql import SparkSession"
      ],
      "metadata": {
        "id": "kc8XmmvfYUoF"
      },
      "execution_count": 69,
      "outputs": []
    },
    {
      "cell_type": "code",
      "source": [
        "spark = SparkSession.builder\\\n",
        "                    .master(\"local[*]\")\\\n",
        "                    .config(\"spark.jars.packages\", \"graphframes:graphframes:0.8.2-spark3.2-s_2.12\")\\\n",
        "                    .getOrCreate()"
      ],
      "metadata": {
        "id": "p5zbnNOTaovf"
      },
      "execution_count": 70,
      "outputs": []
    },
    {
      "cell_type": "code",
      "source": [
        "from functools import reduce\n",
        "from pyspark.sql.functions import col, lit, when\n",
        "from graphframes import *"
      ],
      "metadata": {
        "id": "5HDJi_f0avmx"
      },
      "execution_count": 71,
      "outputs": []
    },
    {
      "cell_type": "code",
      "source": [
        "# Import the data from CSV\n",
        "us_edgelist = spark.read.option(\"header\", True).csv(\"us_edgelist.csv\")\n",
        "us_edgelist.show()"
      ],
      "metadata": {
        "colab": {
          "base_uri": "https://localhost:8080/"
        },
        "id": "keXOa_QRI9SA",
        "outputId": "7054c0d2-7ab2-4335-ca8d-906e4bbc8aa9"
      },
      "execution_count": 72,
      "outputs": [
        {
          "output_type": "stream",
          "name": "stdout",
          "text": [
            "+--------+-----------+-------------+\n",
            "|     src|        dst|relationships|\n",
            "+--------+-----------+-------------+\n",
            "| Clinton|    Hillary|      married|\n",
            "|    Bush|      Laura|      married|\n",
            "|   Obama|   Michelle|      married|\n",
            "|   Trump|     Ivanka|      married|\n",
            "| Clinton|     G.Bush|        rival|\n",
            "| Clinton|       Dole|        rival|\n",
            "|    Bush|    Al Gore|        rival|\n",
            "|    Bush|      Kerry|        rival|\n",
            "|   Obama|     McCain|        rival|\n",
            "|   Obama|     Romney|        rival|\n",
            "|   Trump|    Hillary|        rival|\n",
            "| Clinton|       Bush|    succeeded|\n",
            "|    Bush|      Obama|    succeeded|\n",
            "|   Obama|      Trump|    succeeded|\n",
            "| Hillary|      Laura|        knows|\n",
            "|   Laura|   Michelle|        knows|\n",
            "|Michelle|     Ivanka|        knows|\n",
            "| Hillary|   Michelle|        knows|\n",
            "|   Kerry|  J. Thorne|      married|\n",
            "| Al Gore|T.Aitcheson|      married|\n",
            "+--------+-----------+-------------+\n",
            "only showing top 20 rows\n",
            "\n"
          ]
        }
      ]
    },
    {
      "cell_type": "code",
      "source": [
        "# Import the data from CSV\n",
        "us_age = spark.read.option(\"header\", True).csv(\"us_age.csv\")\n",
        "us_age.show()"
      ],
      "metadata": {
        "colab": {
          "base_uri": "https://localhost:8080/"
        },
        "id": "W4ZFvVfbJTUu",
        "outputId": "ee423b97-06f8-4b93-f353-215a1132268a"
      },
      "execution_count": 73,
      "outputs": [
        {
          "output_type": "stream",
          "name": "stdout",
          "text": [
            "+------------+---+\n",
            "|        name|age|\n",
            "+------------+---+\n",
            "|     Clinton| 75|\n",
            "|        Bush| 75|\n",
            "|       Obama| 60|\n",
            "|       Trump| 75|\n",
            "|     Hillary| 74|\n",
            "|       Laura| 75|\n",
            "|    Michelle| 58|\n",
            "|       Kerry| 78|\n",
            "|     Al Gore| 74|\n",
            "|      McCain| 81|\n",
            "|     G.Bush | 94|\n",
            "|        Dole| 98|\n",
            "|      Romney| 75|\n",
            "|      Ivanka| 40|\n",
            "|   J. Thorne| 61|\n",
            "|T. Aitcheson| 74|\n",
            "|       Cindy| 67|\n",
            "+------------+---+\n",
            "\n"
          ]
        }
      ]
    },
    {
      "cell_type": "code",
      "source": [
        "# Give us_age an \"id\"\n",
        "us_age_id = us_age.withColumn(\"id\", us_age.name)\n",
        "us_age_id.show()"
      ],
      "metadata": {
        "colab": {
          "base_uri": "https://localhost:8080/"
        },
        "id": "L_oX6sWJLVAw",
        "outputId": "825bc659-ef2e-4680-8c89-6932a251d7e9"
      },
      "execution_count": 74,
      "outputs": [
        {
          "output_type": "stream",
          "name": "stdout",
          "text": [
            "+------------+---+------------+\n",
            "|        name|age|          id|\n",
            "+------------+---+------------+\n",
            "|     Clinton| 75|     Clinton|\n",
            "|        Bush| 75|        Bush|\n",
            "|       Obama| 60|       Obama|\n",
            "|       Trump| 75|       Trump|\n",
            "|     Hillary| 74|     Hillary|\n",
            "|       Laura| 75|       Laura|\n",
            "|    Michelle| 58|    Michelle|\n",
            "|       Kerry| 78|       Kerry|\n",
            "|     Al Gore| 74|     Al Gore|\n",
            "|      McCain| 81|      McCain|\n",
            "|     G.Bush | 94|     G.Bush |\n",
            "|        Dole| 98|        Dole|\n",
            "|      Romney| 75|      Romney|\n",
            "|      Ivanka| 40|      Ivanka|\n",
            "|   J. Thorne| 61|   J. Thorne|\n",
            "|T. Aitcheson| 74|T. Aitcheson|\n",
            "|       Cindy| 67|       Cindy|\n",
            "+------------+---+------------+\n",
            "\n"
          ]
        }
      ]
    },
    {
      "cell_type": "code",
      "source": [
        "g = GraphFrame(us_age_id, us_edgelist)\n",
        "print(g)"
      ],
      "metadata": {
        "colab": {
          "base_uri": "https://localhost:8080/"
        },
        "id": "3dUB9xU1a5NX",
        "outputId": "17e79541-55ae-4c53-ed17-9b39c6245cdb"
      },
      "execution_count": 75,
      "outputs": [
        {
          "output_type": "stream",
          "name": "stdout",
          "text": [
            "GraphFrame(v:[id: string, name: string ... 1 more field], e:[src: string, dst: string ... 1 more field])\n"
          ]
        }
      ]
    },
    {
      "cell_type": "code",
      "source": [
        "results = g.pageRank(resetProbability=0.15, tol=0.01)\n",
        "display(results.vertices)"
      ],
      "metadata": {
        "colab": {
          "base_uri": "https://localhost:8080/",
          "height": 36
        },
        "id": "qZQiLUhebSTG",
        "outputId": "f8a43cf4-68a8-4063-ced8-9b3a2bcbc95c"
      },
      "execution_count": 76,
      "outputs": [
        {
          "output_type": "display_data",
          "data": {
            "text/plain": [
              "DataFrame[name: string, age: string, id: string, pagerank: double]"
            ]
          },
          "metadata": {}
        }
      ]
    },
    {
      "cell_type": "code",
      "source": [
        "results.vertices.show()"
      ],
      "metadata": {
        "colab": {
          "base_uri": "https://localhost:8080/"
        },
        "id": "FCvorsubbltQ",
        "outputId": "c7951cde-ecfe-459c-9e8a-e073d27bc463"
      },
      "execution_count": 77,
      "outputs": [
        {
          "output_type": "stream",
          "name": "stdout",
          "text": [
            "+------------+---+------------+------------------+\n",
            "|        name|age|          id|          pagerank|\n",
            "+------------+---+------------+------------------+\n",
            "|       Laura| 75|       Laura| 1.260519753901559|\n",
            "|        Dole| 98|        Dole|0.7170062892276499|\n",
            "|       Trump| 75|       Trump|0.7026603435868531|\n",
            "|     Hillary| 74|     Hillary|1.2928228659823873|\n",
            "|       Kerry| 78|       Kerry|0.7110700358590443|\n",
            "|    Michelle| 58|    Michelle| 2.323551852445693|\n",
            "|      Romney| 75|      Romney|0.7026603435868531|\n",
            "|     Al Gore| 74|     Al Gore|0.7110700358590443|\n",
            "|      McCain| 81|      McCain|0.7026603435868531|\n",
            "|        Bush| 75|        Bush|0.7170062892276499|\n",
            "|T. Aitcheson| 74|T. Aitcheson|0.5587061993981687|\n",
            "|     Clinton| 75|     Clinton|0.5587061993981687|\n",
            "|   J. Thorne| 61|   J. Thorne|1.1345227761529062|\n",
            "|       Obama| 60|       Obama|0.7110700358590443|\n",
            "|      Ivanka| 40|      Ivanka| 2.502737660377051|\n",
            "|     G.Bush | 94|     G.Bush |0.5587061993981687|\n",
            "|       Cindy| 67|       Cindy|1.1345227761529062|\n",
            "+------------+---+------------+------------------+\n",
            "\n"
          ]
        }
      ]
    },
    {
      "cell_type": "markdown",
      "source": [
        "## Find the top 3 most influential persons based on the PageRank result."
      ],
      "metadata": {
        "id": "z1pyEVt7UukB"
      }
    },
    {
      "cell_type": "code",
      "source": [
        "df_result = results.vertices\n",
        "df_result.sort(df_result.pagerank.desc()).show(3)"
      ],
      "metadata": {
        "id": "SHXRrdpe8xz8",
        "colab": {
          "base_uri": "https://localhost:8080/"
        },
        "outputId": "bede1fd8-b3ea-48ad-8ce5-356e899a743b"
      },
      "execution_count": 78,
      "outputs": [
        {
          "output_type": "stream",
          "name": "stdout",
          "text": [
            "+--------+---+--------+------------------+\n",
            "|    name|age|      id|          pagerank|\n",
            "+--------+---+--------+------------------+\n",
            "|  Ivanka| 40|  Ivanka| 2.502737660377051|\n",
            "|Michelle| 58|Michelle| 2.323551852445693|\n",
            "| Hillary| 74| Hillary|1.2928228659823873|\n",
            "+--------+---+--------+------------------+\n",
            "only showing top 3 rows\n",
            "\n"
          ]
        }
      ]
    },
    {
      "cell_type": "markdown",
      "source": [
        "## Find the person who has: a) highest in degree values, b) highest out-degree values"
      ],
      "metadata": {
        "id": "3ShEDOPjU0YR"
      }
    },
    {
      "cell_type": "code",
      "source": [
        "df_in_out = g.inDegrees.join(g.outDegrees,on=\"id\",how=\"full\")\n",
        "\n",
        "# a) highest in degree values\n",
        "print('highest in degree values')\n",
        "df_in_out.sort(df_in_out.inDegree.desc()).show(1)"
      ],
      "metadata": {
        "colab": {
          "base_uri": "https://localhost:8080/"
        },
        "id": "K3ImdyVYT3zV",
        "outputId": "1c7cf802-1cf5-44e5-bb9c-84d1af1a4949"
      },
      "execution_count": 79,
      "outputs": [
        {
          "output_type": "stream",
          "name": "stdout",
          "text": [
            "highest in degree values\n",
            "+--------+--------+---------+\n",
            "|      id|inDegree|outDegree|\n",
            "+--------+--------+---------+\n",
            "|Michelle|       3|        1|\n",
            "+--------+--------+---------+\n",
            "only showing top 1 row\n",
            "\n"
          ]
        }
      ]
    },
    {
      "cell_type": "code",
      "source": [
        "# b) highest out degree values\n",
        "print('highest out degree values')\n",
        "df_in_out.sort(df_in_out.outDegree.desc()).show(1)"
      ],
      "metadata": {
        "colab": {
          "base_uri": "https://localhost:8080/"
        },
        "id": "9i3qC04yVSyJ",
        "outputId": "ba516b30-88ca-4084-9fc3-15bfdd0dc235"
      },
      "execution_count": 80,
      "outputs": [
        {
          "output_type": "stream",
          "name": "stdout",
          "text": [
            "highest out degree values\n",
            "+----+--------+---------+\n",
            "|  id|inDegree|outDegree|\n",
            "+----+--------+---------+\n",
            "|Bush|       1|        4|\n",
            "+----+--------+---------+\n",
            "only showing top 1 row\n",
            "\n"
          ]
        }
      ]
    },
    {
      "cell_type": "markdown",
      "source": [
        "## Find the shortest path from “Ivanka” to “G. Bush.”"
      ],
      "metadata": {
        "id": "oX-_msIIV-xo"
      }
    },
    {
      "cell_type": "code",
      "source": [
        "paths = g.bfs(\"id = 'Ivanka'\", \"id = 'G. Bush'\")\n",
        "paths.show()"
      ],
      "metadata": {
        "colab": {
          "base_uri": "https://localhost:8080/"
        },
        "id": "K1bp1pOvWOe6",
        "outputId": "a37b4e94-4b14-4f9a-82c1-86122252f9ee"
      },
      "execution_count": 81,
      "outputs": [
        {
          "output_type": "stream",
          "name": "stdout",
          "text": [
            "+----+---+---+\n",
            "|name|age| id|\n",
            "+----+---+---+\n",
            "+----+---+---+\n",
            "\n"
          ]
        }
      ]
    },
    {
      "cell_type": "code",
      "source": [
        " "
      ],
      "metadata": {
        "id": "CSi5ddpXW24V"
      },
      "execution_count": 81,
      "outputs": []
    }
  ]
}