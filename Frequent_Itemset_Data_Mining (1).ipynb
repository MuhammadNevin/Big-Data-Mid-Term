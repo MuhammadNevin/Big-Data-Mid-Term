{
  "cells": [
    {
      "cell_type": "markdown",
      "metadata": {
        "id": "PhsI1g58CZpg"
      },
      "source": [
        "# Midterm Exam Big Data\n",
        "- Name : Muhammad Nevin\n",
        "- NRP : 05111940000079"
      ]
    },
    {
      "cell_type": "markdown",
      "metadata": {
        "id": "ar9yTeLc3wmB"
      },
      "source": [
        "# CRISP-DM Methodology:\n",
        "1. Business Understanding\n",
        "2. Data Understanding\n",
        "3. Data Preparation\n",
        "4. Modeling\n",
        "5. Evaluation\n",
        "6. Deployment"
      ]
    },
    {
      "cell_type": "markdown",
      "metadata": {
        "id": "Ha5fnhei4DKR"
      },
      "source": [
        "## 1. Business Understanding\n",
        "\n",
        "You can add description in here by using your own words.\n",
        "- Find the frequent itemset based on the watchlist data.\n",
        "- Build the recommendation movie systems."
      ]
    },
    {
      "cell_type": "markdown",
      "metadata": {
        "id": "H2VgiBCX5OE_"
      },
      "source": [
        "## 2. Data Understanding"
      ]
    },
    {
      "cell_type": "markdown",
      "metadata": {
        "id": "2hndaptc6gDj"
      },
      "source": [
        "![image.png](data:image/png;base64,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)"
      ]
    },
    {
      "cell_type": "code",
      "execution_count": 1,
      "metadata": {
        "colab": {
          "base_uri": "https://localhost:8080/"
        },
        "id": "UIzbt0Gn6QnN",
        "outputId": "bf3a7743-c0e5-4204-cce5-a0368a443164"
      },
      "outputs": [
        {
          "output_type": "stream",
          "name": "stdout",
          "text": [
            "Requirement already satisfied: pyspark in /usr/local/lib/python3.7/dist-packages (3.2.1)\n",
            "Requirement already satisfied: py4j==0.10.9.3 in /usr/local/lib/python3.7/dist-packages (from pyspark) (0.10.9.3)\n"
          ]
        }
      ],
      "source": [
        "# Install Apache Spark\n",
        "!pip install pyspark"
      ]
    },
    {
      "cell_type": "code",
      "execution_count": 2,
      "metadata": {
        "id": "PbKhq6mg62wR"
      },
      "outputs": [],
      "source": [
        "# Import required libraries\n",
        "\n",
        "from pyspark.sql import SparkSession\n",
        "from pyspark.sql.functions import *\n",
        "from pyspark.ml.fpm import FPGrowth\n"
      ]
    },
    {
      "cell_type": "code",
      "execution_count": 3,
      "metadata": {
        "id": "dIVNb2Bj645r"
      },
      "outputs": [],
      "source": [
        "# Create Spark Session/Context\n",
        "spark = SparkSession.builder \\\n",
        "    .master(\"local\") \\\n",
        "    .appName(\"Frequent Itemset\") \\\n",
        "    .config(\"spark.some.config.option\", \"some-value\") \\\n",
        "    .getOrCreate()"
      ]
    },
    {
      "cell_type": "code",
      "execution_count": 4,
      "metadata": {
        "colab": {
          "base_uri": "https://localhost:8080/"
        },
        "id": "KDr-fmpv84J9",
        "outputId": "982e6b96-9cc7-495a-b073-c4a99afd5622"
      },
      "outputs": [
        {
          "output_type": "stream",
          "name": "stdout",
          "text": [
            "+-------+--------------------+\n",
            "|movieId|               title|\n",
            "+-------+--------------------+\n",
            "|      1|    Toy Story (1995)|\n",
            "|      2|      Jumanji (1995)|\n",
            "|      3|Grumpier Old Men ...|\n",
            "|      4|Waiting to Exhale...|\n",
            "|      5|Father of the Bri...|\n",
            "|      6|         Heat (1995)|\n",
            "|      7|      Sabrina (1995)|\n",
            "|      8| Tom and Huck (1995)|\n",
            "|      9| Sudden Death (1995)|\n",
            "|     10|    GoldenEye (1995)|\n",
            "|     11|American Presiden...|\n",
            "|     12|Dracula: Dead and...|\n",
            "|     13|        Balto (1995)|\n",
            "|     14|        Nixon (1995)|\n",
            "|     15|Cutthroat Island ...|\n",
            "|     16|       Casino (1995)|\n",
            "|     17|Sense and Sensibi...|\n",
            "|     18|   Four Rooms (1995)|\n",
            "|     19|Ace Ventura: When...|\n",
            "|     20|  Money Train (1995)|\n",
            "+-------+--------------------+\n",
            "only showing top 20 rows\n",
            "\n"
          ]
        }
      ],
      "source": [
        "# Import the data from CSV\n",
        "movies = spark.read.option(\"header\", True).csv(\"movies.csv\")\n",
        "movies.show()"
      ]
    },
    {
      "cell_type": "code",
      "execution_count": 5,
      "metadata": {
        "colab": {
          "base_uri": "https://localhost:8080/"
        },
        "id": "MMCji4DNDbhD",
        "outputId": "83f3b468-1a13-41a5-b823-606522aa2a05"
      },
      "outputs": [
        {
          "output_type": "stream",
          "name": "stdout",
          "text": [
            "+------+-------+\n",
            "|userId|movieId|\n",
            "+------+-------+\n",
            "|     1|      1|\n",
            "|     1|      3|\n",
            "|     1|      6|\n",
            "|     1|     47|\n",
            "|     1|     50|\n",
            "|     1|     70|\n",
            "|     1|    101|\n",
            "|     1|    110|\n",
            "|     1|    151|\n",
            "|     1|    157|\n",
            "|     1|    163|\n",
            "|     1|    216|\n",
            "|     1|    223|\n",
            "|     1|    231|\n",
            "|     1|    235|\n",
            "|     1|    260|\n",
            "|     1|    296|\n",
            "|     1|    316|\n",
            "|     1|    333|\n",
            "|     1|    349|\n",
            "+------+-------+\n",
            "only showing top 20 rows\n",
            "\n"
          ]
        }
      ],
      "source": [
        "# Import the data from CSV\n",
        "watchlist = spark.read.option(\"header\", True).csv(\"watchlist.csv\")\n",
        "watchlist.show()"
      ]
    },
    {
      "cell_type": "markdown",
      "metadata": {
        "id": "XVmCjTeE5OL3"
      },
      "source": [
        "## 3. Data Preparation\n",
        "\n",
        "We need to prepare the data into combination of [\"id\", \"items\"] = [1, [a, b, c]]"
      ]
    },
    {
      "cell_type": "code",
      "execution_count": 6,
      "metadata": {
        "colab": {
          "base_uri": "https://localhost:8080/"
        },
        "id": "VpSKdt-k-XMT",
        "outputId": "ec851c9a-cfe6-42eb-ffb1-6f15b65e5cd8"
      },
      "outputs": [
        {
          "output_type": "stream",
          "name": "stdout",
          "text": [
            "+------+-------+\n",
            "|userId|movieId|\n",
            "+------+-------+\n",
            "|     1|      1|\n",
            "|     1|      3|\n",
            "|     1|      6|\n",
            "|     1|     47|\n",
            "|     1|     50|\n",
            "|     1|     70|\n",
            "|     1|    101|\n",
            "|     1|    110|\n",
            "|     1|    151|\n",
            "|     1|    157|\n",
            "|     1|    163|\n",
            "|     1|    216|\n",
            "|     1|    223|\n",
            "|     1|    231|\n",
            "|     1|    235|\n",
            "|     1|    260|\n",
            "|     1|    296|\n",
            "|     1|    316|\n",
            "|     1|    333|\n",
            "|     1|    349|\n",
            "+------+-------+\n",
            "only showing top 20 rows\n",
            "\n"
          ]
        }
      ],
      "source": [
        "# Select only the first two column\n",
        "watchlist_raw = watchlist.select(\"userId\", \"movieId\")\n",
        "watchlist_raw.show()"
      ]
    },
    {
      "cell_type": "code",
      "execution_count": 7,
      "metadata": {
        "colab": {
          "base_uri": "https://localhost:8080/"
        },
        "id": "Y-nBPhHjCDJO",
        "outputId": "a895d986-e0b3-47f9-93f5-42aec98ba76d"
      },
      "outputs": [
        {
          "output_type": "execute_result",
          "data": {
            "text/plain": [
              "81763"
            ]
          },
          "metadata": {},
          "execution_count": 7
        }
      ],
      "source": [
        "# Before dropping the duplicates\n",
        "watchlist_raw.count()"
      ]
    },
    {
      "cell_type": "code",
      "execution_count": 8,
      "metadata": {
        "colab": {
          "base_uri": "https://localhost:8080/"
        },
        "id": "Eyh4hrBCCesS",
        "outputId": "1d0ee8ef-ea41-459f-a13b-88b8051f5329"
      },
      "outputs": [
        {
          "output_type": "execute_result",
          "data": {
            "text/plain": [
              "81763"
            ]
          },
          "metadata": {},
          "execution_count": 8
        }
      ],
      "source": [
        "# Remove the duplicates\n",
        "watchlist_raw = watchlist_raw.dropDuplicates([\"userId\", \"movieId\"])\n",
        "watchlist_raw.count()"
      ]
    },
    {
      "cell_type": "markdown",
      "metadata": {
        "id": "92zalRQTD6Ce"
      },
      "source": [
        "There is no duplicate data"
      ]
    },
    {
      "cell_type": "code",
      "execution_count": 9,
      "metadata": {
        "colab": {
          "base_uri": "https://localhost:8080/"
        },
        "id": "xyeGPN8d_WNw",
        "outputId": "fd6e5c13-1aa2-495b-91c0-32eb3f7e86d0"
      },
      "outputs": [
        {
          "output_type": "stream",
          "name": "stdout",
          "text": [
            "+------+--------------------+\n",
            "|userId|              movies|\n",
            "+------+--------------------+\n",
            "|     1|[919, 2366, 3033,...|\n",
            "|    10|[95167, 7458, 517...|\n",
            "|   100|[3098, 2423, 2100...|\n",
            "|   101|[2722, 2600, 2541...|\n",
            "|   102|[377, 588, 349, 2...|\n",
            "|   103|[410, 3988, 555, ...|\n",
            "|   104|[1253, 6711, 1408...|\n",
            "|   105|[5026, 5373, 8641...|\n",
            "|   106|[106489, 40815, 8...|\n",
            "|   107|[292, 11, 410, 31...|\n",
            "|   108|[3751, 4144, 5349...|\n",
            "|   109|[39, 266, 778, 10...|\n",
            "|    11|[1552, 733, 1840,...|\n",
            "|   110|[1198, 6016, 1089...|\n",
            "|   111|[87485, 170401, 2...|\n",
            "|   112|[288, 70286, 454,...|\n",
            "|   113|[2752, 1829, 838,...|\n",
            "|   114|[54001, 79702, 86...|\n",
            "|   115|[480, 3037, 1566,...|\n",
            "|   116|[339, 350, 1380, ...|\n",
            "+------+--------------------+\n",
            "only showing top 20 rows\n",
            "\n"
          ]
        }
      ],
      "source": [
        "# Convert into this format: [\"id\", \"items\"] = [1, [a, b, c]]\n",
        "# You can use groupBy, agg, and collect_list methods\n",
        "\n",
        "watchlist_input = watchlist_raw.groupBy(\"userId\").agg(collect_list('movieId').alias('movies'))\n",
        "watchlist_input.show()"
      ]
    },
    {
      "cell_type": "markdown",
      "metadata": {
        "id": "-YPXRiSo5OTD"
      },
      "source": [
        "## 4. Modeling"
      ]
    },
    {
      "cell_type": "code",
      "execution_count": 10,
      "metadata": {
        "id": "Ds4qZrOnA58G"
      },
      "outputs": [],
      "source": [
        "def fpGrowthModel(ms, mc):\n",
        "  # 1. Create the instance\n",
        "  fpGrowth = FPGrowth(itemsCol=\"movies\", minSupport=ms, minConfidence=mc)\n",
        "\n",
        "  # 2. Train/fit the data training to become a model\n",
        "  model = fpGrowth.fit(watchlist_input)\n",
        "  \n",
        "  return model"
      ]
    },
    {
      "cell_type": "code",
      "execution_count": 11,
      "metadata": {
        "id": "sxyHETvkE1tf"
      },
      "outputs": [],
      "source": [
        "# fpGrowth with minSupport=0.1, minConfidence=0.1\n",
        "m1 = fpGrowthModel(0.1, 0.1)\n",
        "\n",
        "# fpGrowth with minSupport=0.5, minConfidence=0.5\n",
        "m2 = fpGrowthModel(0.5, 0.5)\n",
        "\n",
        "# fpGrowth with minSupport=0.25, minConfidence=0.25\n",
        "m3 = fpGrowthModel(0.25, 0.25)"
      ]
    },
    {
      "cell_type": "markdown",
      "metadata": {
        "id": "NKBBOFBX5Oht"
      },
      "source": [
        "## 5. Evaluation\n",
        "\n",
        "We take a look into several metrics like min_support, confidence, lift, antencedence and consequent"
      ]
    },
    {
      "cell_type": "code",
      "execution_count": 12,
      "metadata": {
        "id": "ToSPoNR0NqBi"
      },
      "outputs": [],
      "source": [
        "def showResult(model) :\n",
        "  # Frequent Itemset\n",
        "  model.freqItemsets.show()\n",
        "  # Display generated association rules.\n",
        "  model.associationRules.show()"
      ]
    },
    {
      "cell_type": "code",
      "execution_count": 13,
      "metadata": {
        "colab": {
          "base_uri": "https://localhost:8080/"
        },
        "id": "NrWbq5ebF4Bf",
        "outputId": "9858e1e9-5578-47a8-9458-9431dfa9468b"
      },
      "outputs": [
        {
          "output_type": "stream",
          "name": "stderr",
          "text": [
            "/usr/local/lib/python3.7/dist-packages/pyspark/sql/context.py:127: FutureWarning: Deprecated in 3.0.0. Use SparkSession.builder.getOrCreate() instead.\n",
            "  FutureWarning\n"
          ]
        },
        {
          "output_type": "stream",
          "name": "stdout",
          "text": [
            "+------------------+----+\n",
            "|             items|freq|\n",
            "+------------------+----+\n",
            "|             [231]|  88|\n",
            "|        [231, 296]|  68|\n",
            "|        [231, 318]|  63|\n",
            "|        [231, 356]|  72|\n",
            "|            [1610]|  85|\n",
            "|       [1610, 589]|  65|\n",
            "|      [1610, 1196]|  70|\n",
            "| [1610, 1196, 260]|  62|\n",
            "|       [1610, 260]|  65|\n",
            "|      [1610, 2571]|  72|\n",
            "|      [1610, 1210]|  66|\n",
            "|[1610, 1210, 1196]|  62|\n",
            "|       [1610, 356]|  63|\n",
            "|            [3751]|  67|\n",
            "|            [2542]|  65|\n",
            "|            [1258]| 102|\n",
            "|      [1258, 2762]|  62|\n",
            "|      [1258, 1196]|  70|\n",
            "| [1258, 1196, 260]|  63|\n",
            "| [1258, 1196, 593]|  61|\n",
            "+------------------+----+\n",
            "only showing top 20 rows\n",
            "\n",
            "+--------------------+----------+-------------------+------------------+-------------------+\n",
            "|          antecedent|consequent|         confidence|              lift|            support|\n",
            "+--------------------+----------+-------------------+------------------+-------------------+\n",
            "|[50, 2959, 593, 318]|    [2571]| 0.8354430379746836| 1.979707432399153|0.10837438423645321|\n",
            "|[50, 2959, 593, 318]|     [296]| 0.9240506329113924| 1.960790367397345|0.11986863711001643|\n",
            "|[50, 2959, 593, 318]|     [356]| 0.7974683544303798|1.5417721518987342|0.10344827586206896|\n",
            "|[50, 2959, 593, 318]|     [858]|  0.810126582278481| 2.771725216896601|0.10509031198686371|\n",
            "|[50, 2959, 593, 318]|    [2858]| 0.7974683544303798| 2.611065741118824|0.10344827586206896|\n",
            "|  [1291, 4993, 1196]|    [7153]| 0.8985507246376812|3.1449275362318843|0.10180623973727422|\n",
            "|  [1291, 4993, 1196]|     [260]| 0.9710144927536232|2.5271274619100708|0.11001642036124795|\n",
            "|  [1291, 4993, 1196]|    [2571]| 0.9420289855072463| 2.232278802233125|0.10673234811165845|\n",
            "|  [1291, 4993, 1196]|    [1210]| 0.9420289855072463|3.1010575793184487|0.10673234811165845|\n",
            "|  [1291, 4993, 1196]|    [1198]| 0.9130434782608695|2.9112223992715682|0.10344827586206896|\n",
            "|         [1270, 356]|    [2762]| 0.5483870967741935| 2.113719885667619| 0.1116584564860427|\n",
            "|         [1270, 356]|    [1580]| 0.5725806451612904|2.5086446971455096|0.11658456486042693|\n",
            "|         [1270, 356]|    [1213]|                0.5|2.4959016393442623|0.10180623973727422|\n",
            "|         [1270, 356]|    [3578]| 0.5483870967741935|2.1827956989247306| 0.1116584564860427|\n",
            "|         [1270, 356]|    [1197]| 0.5887096774193549|2.6557347670250895|0.11986863711001643|\n",
            "|         [1270, 356]|    [1136]| 0.5080645161290323|2.4556451612903225|0.10344827586206896|\n",
            "|         [1270, 356]|    [1036]| 0.5806451612903226|2.6389022628791525|0.11822660098522167|\n",
            "|         [1270, 356]|    [2115]| 0.5241935483870968| 3.291070834718989|0.10673234811165845|\n",
            "|         [1270, 356]|    [6377]|0.49193548387096775|2.2357366393837266|0.10016420361247948|\n",
            "|         [1270, 356]|    [1265]| 0.6370967741935484|  2.91723259762309| 0.1297208538587849|\n",
            "+--------------------+----------+-------------------+------------------+-------------------+\n",
            "only showing top 20 rows\n",
            "\n"
          ]
        }
      ],
      "source": [
        "# Display Frequent Itemset and generated association rules.\n",
        "showResult(m1)"
      ]
    },
    {
      "cell_type": "code",
      "execution_count": 14,
      "metadata": {
        "colab": {
          "base_uri": "https://localhost:8080/"
        },
        "id": "BtBypn3_F5KA",
        "outputId": "f1cb1c60-fa1c-4729-e578-460e4979ffa5"
      },
      "outputs": [
        {
          "output_type": "stream",
          "name": "stderr",
          "text": [
            "/usr/local/lib/python3.7/dist-packages/pyspark/sql/context.py:127: FutureWarning: Deprecated in 3.0.0. Use SparkSession.builder.getOrCreate() instead.\n",
            "  FutureWarning\n"
          ]
        },
        {
          "output_type": "stream",
          "name": "stdout",
          "text": [
            "+-----+----+\n",
            "|items|freq|\n",
            "+-----+----+\n",
            "|[318]| 313|\n",
            "|[356]| 315|\n",
            "+-----+----+\n",
            "\n",
            "+----------+----------+----------+----+-------+\n",
            "|antecedent|consequent|confidence|lift|support|\n",
            "+----------+----------+----------+----+-------+\n",
            "+----------+----------+----------+----+-------+\n",
            "\n"
          ]
        }
      ],
      "source": [
        "# Display Frequent Itemset and generated association rules.\n",
        "showResult(m2)"
      ]
    },
    {
      "cell_type": "code",
      "source": [
        "# Display Frequent Itemset and generated association rules.\n",
        "showResult(m3)"
      ],
      "metadata": {
        "colab": {
          "base_uri": "https://localhost:8080/"
        },
        "id": "jm-OlPtgOp9L",
        "outputId": "eb89d52b-c4e4-4834-8276-94601b63840d"
      },
      "execution_count": 15,
      "outputs": [
        {
          "output_type": "stream",
          "name": "stderr",
          "text": [
            "/usr/local/lib/python3.7/dist-packages/pyspark/sql/context.py:127: FutureWarning: Deprecated in 3.0.0. Use SparkSession.builder.getOrCreate() instead.\n",
            "  FutureWarning\n"
          ]
        },
        {
          "output_type": "stream",
          "name": "stdout",
          "text": [
            "+---------------+----+\n",
            "|          items|freq|\n",
            "+---------------+----+\n",
            "|         [7153]| 174|\n",
            "|   [7153, 4993]| 155|\n",
            "|         [2762]| 158|\n",
            "|         [3578]| 153|\n",
            "|          [589]| 210|\n",
            "|     [589, 356]| 154|\n",
            "|          [150]| 185|\n",
            "|           [32]| 171|\n",
            "|         [1196]| 199|\n",
            "|    [1196, 260]| 176|\n",
            "|   [1196, 2571]| 157|\n",
            "|          [780]| 164|\n",
            "|          [457]| 182|\n",
            "|          [296]| 287|\n",
            "|     [296, 318]| 209|\n",
            "|[296, 318, 356]| 161|\n",
            "|     [296, 356]| 207|\n",
            "|          [260]| 234|\n",
            "|    [260, 2571]| 161|\n",
            "|           [47]| 191|\n",
            "+---------------+----+\n",
            "only showing top 20 rows\n",
            "\n",
            "+----------+----------+-------------------+------------------+-------------------+\n",
            "|antecedent|consequent|         confidence|              lift|            support|\n",
            "+----------+----------+-------------------+------------------+-------------------+\n",
            "|    [5952]|    [4993]| 0.8908045977011494|2.9644808743169397| 0.2545155993431856|\n",
            "|      [50]|     [296]| 0.7868020304568528|1.6695555280425902| 0.2545155993431856|\n",
            "|      [50]|     [318]| 0.7918781725888325|1.5407469875610191| 0.2561576354679803|\n",
            "|[318, 356]|     [296]| 0.7285067873303167| 1.545855865798477|0.26436781609195403|\n",
            "|    [1210]|    [1196]|  0.827027027027027|2.5309520575852233| 0.2512315270935961|\n",
            "|    [1210]|     [260]| 0.8702702702702703| 2.264934164934165|0.26436781609195403|\n",
            "|     [480]|     [356]| 0.8194444444444444| 1.584259259259259|0.29064039408866993|\n",
            "|     [110]|     [296]| 0.7110091743119266|1.5087267845155516| 0.2545155993431856|\n",
            "|     [110]|     [318]| 0.7110091743119266|1.3834012369200104| 0.2545155993431856|\n",
            "|     [110]|     [356]| 0.7568807339449541| 1.463302752293578|  0.270935960591133|\n",
            "|[296, 356]|     [318]| 0.7777777777777778| 1.513312034078807|0.26436781609195403|\n",
            "|     [527]|     [318]| 0.7658536585365854|1.4901114314657522|0.25779967159277506|\n",
            "|     [527]|     [356]| 0.7560975609756098|1.4617886178861788| 0.2545155993431856|\n",
            "|    [7153]|    [4993]| 0.8908045977011494|2.9644808743169397| 0.2545155993431856|\n",
            "|     [356]|     [589]| 0.4888888888888889|1.4177777777777776|0.25287356321839083|\n",
            "|     [356]|     [296]| 0.6571428571428571| 1.394425087108014| 0.3399014778325123|\n",
            "|     [356]|    [2571]| 0.5492063492063493|1.3014267185473414|0.28407224958949095|\n",
            "|     [356]|     [480]| 0.5619047619047619|1.5842592592592593|0.29064039408866993|\n",
            "|     [356]|     [527]|0.49206349206349204| 1.461788617886179| 0.2545155993431856|\n",
            "|     [356]|     [318]| 0.7015873015873015|1.3650692225772096|0.36288998357963875|\n",
            "+----------+----------+-------------------+------------------+-------------------+\n",
            "only showing top 20 rows\n",
            "\n"
          ]
        }
      ]
    },
    {
      "cell_type": "markdown",
      "source": [
        "### Best fpGrowthmodel is with hyperparameter minSupport=0.1, minConfidence=0.1"
      ],
      "metadata": {
        "id": "-Fy1yfCnaaQ4"
      }
    },
    {
      "cell_type": "markdown",
      "metadata": {
        "id": "jtT-xwLs5Om5"
      },
      "source": [
        "## 6. Deployment\n",
        "\n",
        "You can test your model with new input"
      ]
    },
    {
      "cell_type": "code",
      "execution_count": 16,
      "metadata": {
        "colab": {
          "base_uri": "https://localhost:8080/"
        },
        "id": "wnRKELHtHh57",
        "outputId": "008d5852-9681-47f5-efd4-ecde8476940a"
      },
      "outputs": [
        {
          "output_type": "stream",
          "name": "stdout",
          "text": [
            "+------+----------+\n",
            "|userId|    movies|\n",
            "+------+----------+\n",
            "|   123|     [316]|\n",
            "|   456|     [457]|\n",
            "|   666|[DOT, 231]|\n",
            "+------+----------+\n",
            "\n"
          ]
        }
      ],
      "source": [
        "# Prepare the input test\n",
        "test = spark.createDataFrame(\n",
        "    [\n",
        "     (\"123\", [\"316\"]),\n",
        "     (\"456\", [\"457\"]),\n",
        "     (\"666\", [\"DOT\", \"231\"])\n",
        "    ],\n",
        "    [\"userId\", \"movies\"]\n",
        ")\n",
        "\n",
        "test.show()"
      ]
    },
    {
      "cell_type": "code",
      "execution_count": 18,
      "metadata": {
        "colab": {
          "base_uri": "https://localhost:8080/"
        },
        "id": "AKpkXlXlHwBm",
        "outputId": "4c509cee-cdac-4604-e066-f2e64eb5985f"
      },
      "outputs": [
        {
          "output_type": "stream",
          "name": "stdout",
          "text": [
            "+------+----------+--------------------+\n",
            "|userId|    movies|          prediction|\n",
            "+------+----------+--------------------+\n",
            "|   123|     [316]|[150, 589, 780, 3...|\n",
            "|   456|     [457]|[153, 587, 1214, ...|\n",
            "|   666|[DOT, 231]|     [296, 318, 356]|\n",
            "+------+----------+--------------------+\n",
            "\n"
          ]
        }
      ],
      "source": [
        "# Predict the input based on the model\n",
        "result = m1.transform(test)\n",
        "result.show()"
      ]
    },
    {
      "cell_type": "code",
      "source": [
        "# Convert array of values into rows\n",
        "result = result.select(result.userId, result.movies, explode(result.prediction).alias(\"prediction\"))\n",
        "result.show()"
      ],
      "metadata": {
        "colab": {
          "base_uri": "https://localhost:8080/"
        },
        "id": "1UnzQ7x-cOVR",
        "outputId": "502eaa51-ff1b-4270-f5a1-0ddd77b2073f"
      },
      "execution_count": 31,
      "outputs": [
        {
          "output_type": "stream",
          "name": "stdout",
          "text": [
            "+------+------+----------+\n",
            "|userId|movies|prediction|\n",
            "+------+------+----------+\n",
            "|   123| [316]|       150|\n",
            "|   123| [316]|       589|\n",
            "|   123| [316]|       780|\n",
            "|   123| [316]|       377|\n",
            "|   123| [316]|       457|\n",
            "|   123| [316]|       296|\n",
            "|   123| [316]|        47|\n",
            "|   123| [316]|       165|\n",
            "|   123| [316]|       480|\n",
            "|   123| [316]|       592|\n",
            "|   123| [316]|       318|\n",
            "|   123| [316]|       588|\n",
            "|   123| [316]|       590|\n",
            "|   123| [316]|       593|\n",
            "|   123| [316]|       364|\n",
            "|   123| [316]|       110|\n",
            "|   123| [316]|       380|\n",
            "|   123| [316]|       356|\n",
            "|   123| [316]|       329|\n",
            "|   123| [316]|        10|\n",
            "+------+------+----------+\n",
            "only showing top 20 rows\n",
            "\n"
          ]
        }
      ]
    },
    {
      "cell_type": "code",
      "execution_count": 25,
      "metadata": {
        "id": "Q80qOAUeK4n9"
      },
      "outputs": [],
      "source": [
        "# Save original dataframe into temporary table\n",
        "movies.createOrReplaceTempView(\"movie\")"
      ]
    },
    {
      "cell_type": "code",
      "execution_count": 26,
      "metadata": {
        "id": "ro1yDvRfLQHS"
      },
      "outputs": [],
      "source": [
        "# You can use Spark SQL Context to do query\n",
        "# In this query, we want to select the StockCode and Description and save it into products table\n",
        "spark.sql(\"SELECT DISTINCT movieId, title FROM movie\").createOrReplaceTempView(\"products\")"
      ]
    },
    {
      "cell_type": "code",
      "execution_count": 27,
      "metadata": {
        "colab": {
          "base_uri": "https://localhost:8080/"
        },
        "id": "dMBYWbHKLijW",
        "outputId": "8441a1be-2eb2-49de-d88d-2641e4492788"
      },
      "outputs": [
        {
          "output_type": "stream",
          "name": "stdout",
          "text": [
            "+-------+--------------------+\n",
            "|movieId|               title|\n",
            "+-------+--------------------+\n",
            "|     63|Don't Be a Menace...|\n",
            "|    335|   Underneath (1995)|\n",
            "|   1236|        Trust (1990)|\n",
            "|   1324|Amityville: Dollh...|\n",
            "|   2202|     Lifeboat (1944)|\n",
            "|   2372| Fletch Lives (1989)|\n",
            "|   2483|Day of the Beast,...|\n",
            "|   2728|    Spartacus (1960)|\n",
            "|   2871|  Deliverance (1972)|\n",
            "|   2951|Fistful of Dollar...|\n",
            "|   3598|       Hamlet (2000)|\n",
            "|   3736|Ace in the Hole (...|\n",
            "|   4015|Dude, Where's My ...|\n",
            "|   4027|O Brother, Where ...|\n",
            "|   4402|Dr. Goldfoot and ...|\n",
            "|   4786|Legend of Hell Ho...|\n",
            "|   4866|Last Castle, The ...|\n",
            "|   4995|Beautiful Mind, A...|\n",
            "|   5607|Son of the Bride ...|\n",
            "|   5803|        I Spy (2002)|\n",
            "+-------+--------------------+\n",
            "only showing top 20 rows\n",
            "\n"
          ]
        }
      ],
      "source": [
        "spark.sql(\"SELECT * FROM products\").show()"
      ]
    },
    {
      "cell_type": "code",
      "execution_count": 33,
      "metadata": {
        "id": "9zOg0-hrMOKF"
      },
      "outputs": [],
      "source": [
        "# Create temporary table from result DataFrame\n",
        "result.createOrReplaceTempView(\"result\")"
      ]
    },
    {
      "cell_type": "code",
      "execution_count": 34,
      "metadata": {
        "colab": {
          "base_uri": "https://localhost:8080/"
        },
        "id": "E4LhKh-IMj8x",
        "outputId": "46de1e13-597b-4fde-f189-3a62cec20c5b"
      },
      "outputs": [
        {
          "output_type": "stream",
          "name": "stdout",
          "text": [
            "+------+------+----------+--------------------+\n",
            "|userId|movies|prediction|               title|\n",
            "+------+------+----------+--------------------+\n",
            "|   123| [316]|       150|    Apollo 13 (1995)|\n",
            "|   123| [316]|       780|Independence Day ...|\n",
            "|   123| [316]|       377|        Speed (1994)|\n",
            "|   123| [316]|       589|Terminator 2: Jud...|\n",
            "|   123| [316]|       296| Pulp Fiction (1994)|\n",
            "|   123| [316]|        47|Seven (a.k.a. Se7...|\n",
            "|   123| [316]|       165|Die Hard: With a ...|\n",
            "|   123| [316]|       480|Jurassic Park (1993)|\n",
            "|   123| [316]|       457|Fugitive, The (1993)|\n",
            "|   123| [316]|       318|Shawshank Redempt...|\n",
            "|   123| [316]|       588|      Aladdin (1992)|\n",
            "|   123| [316]|       590|Dances with Wolve...|\n",
            "|   123| [316]|       593|Silence of the La...|\n",
            "|   123| [316]|       364|Lion King, The (1...|\n",
            "|   123| [316]|       110|   Braveheart (1995)|\n",
            "|   123| [316]|       380|    True Lies (1994)|\n",
            "|   123| [316]|       356| Forrest Gump (1994)|\n",
            "|   123| [316]|       329|Star Trek: Genera...|\n",
            "|   123| [316]|        10|    GoldenEye (1995)|\n",
            "|   123| [316]|       592|       Batman (1989)|\n",
            "+------+------+----------+--------------------+\n",
            "only showing top 20 rows\n",
            "\n"
          ]
        }
      ],
      "source": [
        "spark.sql(\"SELECT r.userId, r.movies, r.prediction, p.title  FROM result r INNER JOIN products p ON r.prediction = p.movieId ORDER BY r.userId\").show()"
      ]
    },
    {
      "cell_type": "code",
      "source": [
        ""
      ],
      "metadata": {
        "id": "cx3e5qzCbi8q"
      },
      "execution_count": null,
      "outputs": []
    }
  ],
  "metadata": {
    "colab": {
      "collapsed_sections": [],
      "name": "Frequent_Itemset_Data_Mining.ipynb",
      "provenance": []
    },
    "kernelspec": {
      "display_name": "Python 3",
      "name": "python3"
    },
    "language_info": {
      "name": "python"
    }
  },
  "nbformat": 4,
  "nbformat_minor": 0
}